{
  "nbformat": 4,
  "nbformat_minor": 0,
  "metadata": {
    "colab": {
      "provenance": [],
      "authorship_tag": "ABX9TyNnp+yPfY8qSulAwWpfPzPB"
    },
    "kernelspec": {
      "name": "python3",
      "display_name": "Python 3"
    },
    "language_info": {
      "name": "python"
    }
  },
  "cells": [
    {
      "cell_type": "markdown",
      "source": [
        "\n",
        "Task 1\n",
        "\n",
        "Web scraping and analysis\n",
        "\n",
        "Scraping data from Skytrax If you visit [https://www.airlinequality.com] you can see that there is a lot of data there. For this task, we are only interested in reviews related to British Airways and the Airline itself.\n",
        "\n",
        "If you navigate to this link: [https://www.airlinequality.com/airline-reviews/british-airways] you will see this data. Now, we can use Python and BeautifulSoup to collect all the links to the reviews and then to collect the text data on each of the individual review links.\n"
      ],
      "metadata": {
        "id": "rIN18N3sIBmN"
      }
    },
    {
      "cell_type": "code",
      "source": [
        "from nltk.corpus import stopwords\n",
        "import matplotlib.pyplot as plt\n",
        "from nltk.tokenize import word_tokenize\n",
        "from bs4 import BeautifulSoup\n",
        "from textblob import TextBlob\n",
        "from wordcloud import WordCloud\n",
        "from string import digits\n",
        "import requests\n",
        "import pandas as pd\n",
        "import nltk\n",
        "import string\n",
        "import seaborn as sns\n",
        "import re\n",
        "nltk.download(\"stopwords\")\n",
        "stop_words = set(stopwords.words('english'))"
      ],
      "metadata": {
        "colab": {
          "base_uri": "https://localhost:8080/"
        },
        "id": "yEabNnBoHmE_",
        "outputId": "4cb6bd7d-e996-4fd2-90fa-d28361fb1e7e"
      },
      "execution_count": null,
      "outputs": [
        {
          "output_type": "stream",
          "name": "stderr",
          "text": [
            "[nltk_data] Downloading package stopwords to /root/nltk_data...\n",
            "[nltk_data]   Unzipping corpora/stopwords.zip.\n"
          ]
        }
      ]
    },
    {
      "cell_type": "code",
      "source": [
        "base_url = \"https://www.airlinequality.com/airline-reviews/british-airways\"\n",
        "pages = 10\n",
        "page_size = 100\n",
        "\n",
        "reviews = []\n",
        "\n",
        "# for i in range(1, pages + 1):\n",
        "for i in range(1, pages + 1):\n",
        "\n",
        "    print(f\"Scraping page {i}\")\n",
        "\n",
        "    # Create URL to collect links from paginated data\n",
        "    url = f\"{base_url}/page/{i}/?sortby=post_date%3ADesc&pagesize={page_size}\"\n",
        "\n",
        "    # Collect HTML data from this page\n",
        "    response = requests.get(url)\n",
        "\n",
        "    # Parse content\n",
        "    content = response.content\n",
        "    parsed_content = BeautifulSoup(content, 'html.parser')\n",
        "    for para in parsed_content.find_all(\"div\", {\"class\": \"text_content\"}):\n",
        "        reviews.append(para.get_text())\n",
        "\n",
        "    print(f\"   ---> {len(reviews)} total reviews\")"
      ],
      "metadata": {
        "colab": {
          "base_uri": "https://localhost:8080/"
        },
        "id": "KR489BQjHtxn",
        "outputId": "c1078906-26b0-401e-ed93-7657a1d3df20"
      },
      "execution_count": null,
      "outputs": [
        {
          "output_type": "stream",
          "name": "stdout",
          "text": [
            "Scraping page 1\n",
            "   ---> 100 total reviews\n",
            "Scraping page 2\n",
            "   ---> 200 total reviews\n",
            "Scraping page 3\n",
            "   ---> 300 total reviews\n",
            "Scraping page 4\n",
            "   ---> 400 total reviews\n",
            "Scraping page 5\n",
            "   ---> 500 total reviews\n",
            "Scraping page 6\n",
            "   ---> 600 total reviews\n",
            "Scraping page 7\n",
            "   ---> 700 total reviews\n",
            "Scraping page 8\n",
            "   ---> 800 total reviews\n",
            "Scraping page 9\n",
            "   ---> 900 total reviews\n",
            "Scraping page 10\n",
            "   ---> 1000 total reviews\n"
          ]
        }
      ]
    },
    {
      "cell_type": "code",
      "source": [
        "df = pd.DataFrame()\n",
        "df[\"reviews\"] = reviews\n",
        "df.head()"
      ],
      "metadata": {
        "colab": {
          "base_uri": "https://localhost:8080/",
          "height": 204
        },
        "id": "oHcPYEM4H1w3",
        "outputId": "a9cfd176-8067-443b-d799-8d9d9b321a0d"
      },
      "execution_count": null,
      "outputs": [
        {
          "output_type": "execute_result",
          "data": {
            "text/plain": [
              "                                             reviews\n",
              "0  ✅ Trip Verified |  I will never travel with Br...\n",
              "1  ✅ Trip Verified |  I am already in Portugal so...\n",
              "2  ✅ Trip Verified |  Terrible. Avoid this airlin...\n",
              "3  ✅ Trip Verified |  Despite being a gold member...\n",
              "4  Not Verified | Regarding the aircraft and seat..."
            ],
            "text/html": [
              "\n",
              "  <div id=\"df-f9ac57bf-75b1-47cc-913e-9d0a05142c68\">\n",
              "    <div class=\"colab-df-container\">\n",
              "      <div>\n",
              "<style scoped>\n",
              "    .dataframe tbody tr th:only-of-type {\n",
              "        vertical-align: middle;\n",
              "    }\n",
              "\n",
              "    .dataframe tbody tr th {\n",
              "        vertical-align: top;\n",
              "    }\n",
              "\n",
              "    .dataframe thead th {\n",
              "        text-align: right;\n",
              "    }\n",
              "</style>\n",
              "<table border=\"1\" class=\"dataframe\">\n",
              "  <thead>\n",
              "    <tr style=\"text-align: right;\">\n",
              "      <th></th>\n",
              "      <th>reviews</th>\n",
              "    </tr>\n",
              "  </thead>\n",
              "  <tbody>\n",
              "    <tr>\n",
              "      <th>0</th>\n",
              "      <td>✅ Trip Verified |  I will never travel with Br...</td>\n",
              "    </tr>\n",
              "    <tr>\n",
              "      <th>1</th>\n",
              "      <td>✅ Trip Verified |  I am already in Portugal so...</td>\n",
              "    </tr>\n",
              "    <tr>\n",
              "      <th>2</th>\n",
              "      <td>✅ Trip Verified |  Terrible. Avoid this airlin...</td>\n",
              "    </tr>\n",
              "    <tr>\n",
              "      <th>3</th>\n",
              "      <td>✅ Trip Verified |  Despite being a gold member...</td>\n",
              "    </tr>\n",
              "    <tr>\n",
              "      <th>4</th>\n",
              "      <td>Not Verified | Regarding the aircraft and seat...</td>\n",
              "    </tr>\n",
              "  </tbody>\n",
              "</table>\n",
              "</div>\n",
              "      <button class=\"colab-df-convert\" onclick=\"convertToInteractive('df-f9ac57bf-75b1-47cc-913e-9d0a05142c68')\"\n",
              "              title=\"Convert this dataframe to an interactive table.\"\n",
              "              style=\"display:none;\">\n",
              "        \n",
              "  <svg xmlns=\"http://www.w3.org/2000/svg\" height=\"24px\"viewBox=\"0 0 24 24\"\n",
              "       width=\"24px\">\n",
              "    <path d=\"M0 0h24v24H0V0z\" fill=\"none\"/>\n",
              "    <path d=\"M18.56 5.44l.94 2.06.94-2.06 2.06-.94-2.06-.94-.94-2.06-.94 2.06-2.06.94zm-11 1L8.5 8.5l.94-2.06 2.06-.94-2.06-.94L8.5 2.5l-.94 2.06-2.06.94zm10 10l.94 2.06.94-2.06 2.06-.94-2.06-.94-.94-2.06-.94 2.06-2.06.94z\"/><path d=\"M17.41 7.96l-1.37-1.37c-.4-.4-.92-.59-1.43-.59-.52 0-1.04.2-1.43.59L10.3 9.45l-7.72 7.72c-.78.78-.78 2.05 0 2.83L4 21.41c.39.39.9.59 1.41.59.51 0 1.02-.2 1.41-.59l7.78-7.78 2.81-2.81c.8-.78.8-2.07 0-2.86zM5.41 20L4 18.59l7.72-7.72 1.47 1.35L5.41 20z\"/>\n",
              "  </svg>\n",
              "      </button>\n",
              "      \n",
              "  <style>\n",
              "    .colab-df-container {\n",
              "      display:flex;\n",
              "      flex-wrap:wrap;\n",
              "      gap: 12px;\n",
              "    }\n",
              "\n",
              "    .colab-df-convert {\n",
              "      background-color: #E8F0FE;\n",
              "      border: none;\n",
              "      border-radius: 50%;\n",
              "      cursor: pointer;\n",
              "      display: none;\n",
              "      fill: #1967D2;\n",
              "      height: 32px;\n",
              "      padding: 0 0 0 0;\n",
              "      width: 32px;\n",
              "    }\n",
              "\n",
              "    .colab-df-convert:hover {\n",
              "      background-color: #E2EBFA;\n",
              "      box-shadow: 0px 1px 2px rgba(60, 64, 67, 0.3), 0px 1px 3px 1px rgba(60, 64, 67, 0.15);\n",
              "      fill: #174EA6;\n",
              "    }\n",
              "\n",
              "    [theme=dark] .colab-df-convert {\n",
              "      background-color: #3B4455;\n",
              "      fill: #D2E3FC;\n",
              "    }\n",
              "\n",
              "    [theme=dark] .colab-df-convert:hover {\n",
              "      background-color: #434B5C;\n",
              "      box-shadow: 0px 1px 3px 1px rgba(0, 0, 0, 0.15);\n",
              "      filter: drop-shadow(0px 1px 2px rgba(0, 0, 0, 0.3));\n",
              "      fill: #FFFFFF;\n",
              "    }\n",
              "  </style>\n",
              "\n",
              "      <script>\n",
              "        const buttonEl =\n",
              "          document.querySelector('#df-f9ac57bf-75b1-47cc-913e-9d0a05142c68 button.colab-df-convert');\n",
              "        buttonEl.style.display =\n",
              "          google.colab.kernel.accessAllowed ? 'block' : 'none';\n",
              "\n",
              "        async function convertToInteractive(key) {\n",
              "          const element = document.querySelector('#df-f9ac57bf-75b1-47cc-913e-9d0a05142c68');\n",
              "          const dataTable =\n",
              "            await google.colab.kernel.invokeFunction('convertToInteractive',\n",
              "                                                     [key], {});\n",
              "          if (!dataTable) return;\n",
              "\n",
              "          const docLinkHtml = 'Like what you see? Visit the ' +\n",
              "            '<a target=\"_blank\" href=https://colab.research.google.com/notebooks/data_table.ipynb>data table notebook</a>'\n",
              "            + ' to learn more about interactive tables.';\n",
              "          element.innerHTML = '';\n",
              "          dataTable['output_type'] = 'display_data';\n",
              "          await google.colab.output.renderOutput(dataTable, element);\n",
              "          const docLink = document.createElement('div');\n",
              "          docLink.innerHTML = docLinkHtml;\n",
              "          element.appendChild(docLink);\n",
              "        }\n",
              "      </script>\n",
              "    </div>\n",
              "  </div>\n",
              "  "
            ]
          },
          "metadata": {},
          "execution_count": 15
        }
      ]
    },
    {
      "cell_type": "code",
      "source": [
        "#Saving the dataframe in csv file\n",
        "df.to_csv(\"BA_reviews3.csv\")"
      ],
      "metadata": {
        "id": "LPRStSu9H4lw"
      },
      "execution_count": null,
      "outputs": []
    },
    {
      "cell_type": "markdown",
      "source": [
        "Data cleaning"
      ],
      "metadata": {
        "id": "5b-_uSioILmy"
      }
    },
    {
      "cell_type": "code",
      "source": [
        "import nltk\n",
        "# nltk.download('stopwords')\n",
        "from nltk.corpus import stopwords\n",
        "from nltk.stem import SnowballStemmer\n"
      ],
      "metadata": {
        "id": "yXJ-Mtwsa2Ss"
      },
      "execution_count": null,
      "outputs": []
    },
    {
      "cell_type": "code",
      "source": [
        "import pandas as pd\n",
        "\n",
        "csv_path = \"BA_reviews3.csv\"\n",
        "df1 = pd.read_csv(csv_path)\n",
        "df1.reset_index(drop=True, inplace=True)\n",
        "\n",
        "print(df1['reviews'])"
      ],
      "metadata": {
        "colab": {
          "base_uri": "https://localhost:8080/"
        },
        "id": "afNtalJcIQnA",
        "outputId": "6ca290ac-e6fe-4076-f160-04263edd1f91"
      },
      "execution_count": null,
      "outputs": [
        {
          "output_type": "stream",
          "name": "stdout",
          "text": [
            "0      ✅ Trip Verified |  I will never travel with Br...\n",
            "1      ✅ Trip Verified |  I am already in Portugal so...\n",
            "2      ✅ Trip Verified |  Terrible. Avoid this airlin...\n",
            "3      ✅ Trip Verified |  Despite being a gold member...\n",
            "4      Not Verified | Regarding the aircraft and seat...\n",
            "                             ...                        \n",
            "995    ✅ Trip Verified |  Had four flights in total w...\n",
            "996    ✅ Trip Verified |  Johannesburg to Heathrow. B...\n",
            "997    ✅ Trip Verified |  The queue for bag drop was ...\n",
            "998    ✅ Trip Verified |  British Airways changed pla...\n",
            "999    ✅ Trip Verified |  Mumbai to Edinburgh via Lon...\n",
            "Name: reviews, Length: 1000, dtype: object\n"
          ]
        }
      ]
    },
    {
      "cell_type": "code",
      "source": [
        "df1.info()\n",
        "df1.describe()"
      ],
      "metadata": {
        "colab": {
          "base_uri": "https://localhost:8080/",
          "height": 450
        },
        "id": "jrlQ9RLSIVzl",
        "outputId": "2e95582a-6648-4a66-d942-377cfb5db897"
      },
      "execution_count": null,
      "outputs": [
        {
          "output_type": "stream",
          "name": "stdout",
          "text": [
            "<class 'pandas.core.frame.DataFrame'>\n",
            "RangeIndex: 1000 entries, 0 to 999\n",
            "Data columns (total 2 columns):\n",
            " #   Column      Non-Null Count  Dtype \n",
            "---  ------      --------------  ----- \n",
            " 0   Unnamed: 0  1000 non-null   int64 \n",
            " 1   reviews     1000 non-null   object\n",
            "dtypes: int64(1), object(1)\n",
            "memory usage: 15.8+ KB\n"
          ]
        },
        {
          "output_type": "execute_result",
          "data": {
            "text/plain": [
              "        Unnamed: 0\n",
              "count  1000.000000\n",
              "mean    499.500000\n",
              "std     288.819436\n",
              "min       0.000000\n",
              "25%     249.750000\n",
              "50%     499.500000\n",
              "75%     749.250000\n",
              "max     999.000000"
            ],
            "text/html": [
              "\n",
              "  <div id=\"df-d40797d0-bd94-46e8-b355-d0d56e6cb272\">\n",
              "    <div class=\"colab-df-container\">\n",
              "      <div>\n",
              "<style scoped>\n",
              "    .dataframe tbody tr th:only-of-type {\n",
              "        vertical-align: middle;\n",
              "    }\n",
              "\n",
              "    .dataframe tbody tr th {\n",
              "        vertical-align: top;\n",
              "    }\n",
              "\n",
              "    .dataframe thead th {\n",
              "        text-align: right;\n",
              "    }\n",
              "</style>\n",
              "<table border=\"1\" class=\"dataframe\">\n",
              "  <thead>\n",
              "    <tr style=\"text-align: right;\">\n",
              "      <th></th>\n",
              "      <th>Unnamed: 0</th>\n",
              "    </tr>\n",
              "  </thead>\n",
              "  <tbody>\n",
              "    <tr>\n",
              "      <th>count</th>\n",
              "      <td>1000.000000</td>\n",
              "    </tr>\n",
              "    <tr>\n",
              "      <th>mean</th>\n",
              "      <td>499.500000</td>\n",
              "    </tr>\n",
              "    <tr>\n",
              "      <th>std</th>\n",
              "      <td>288.819436</td>\n",
              "    </tr>\n",
              "    <tr>\n",
              "      <th>min</th>\n",
              "      <td>0.000000</td>\n",
              "    </tr>\n",
              "    <tr>\n",
              "      <th>25%</th>\n",
              "      <td>249.750000</td>\n",
              "    </tr>\n",
              "    <tr>\n",
              "      <th>50%</th>\n",
              "      <td>499.500000</td>\n",
              "    </tr>\n",
              "    <tr>\n",
              "      <th>75%</th>\n",
              "      <td>749.250000</td>\n",
              "    </tr>\n",
              "    <tr>\n",
              "      <th>max</th>\n",
              "      <td>999.000000</td>\n",
              "    </tr>\n",
              "  </tbody>\n",
              "</table>\n",
              "</div>\n",
              "      <button class=\"colab-df-convert\" onclick=\"convertToInteractive('df-d40797d0-bd94-46e8-b355-d0d56e6cb272')\"\n",
              "              title=\"Convert this dataframe to an interactive table.\"\n",
              "              style=\"display:none;\">\n",
              "        \n",
              "  <svg xmlns=\"http://www.w3.org/2000/svg\" height=\"24px\"viewBox=\"0 0 24 24\"\n",
              "       width=\"24px\">\n",
              "    <path d=\"M0 0h24v24H0V0z\" fill=\"none\"/>\n",
              "    <path d=\"M18.56 5.44l.94 2.06.94-2.06 2.06-.94-2.06-.94-.94-2.06-.94 2.06-2.06.94zm-11 1L8.5 8.5l.94-2.06 2.06-.94-2.06-.94L8.5 2.5l-.94 2.06-2.06.94zm10 10l.94 2.06.94-2.06 2.06-.94-2.06-.94-.94-2.06-.94 2.06-2.06.94z\"/><path d=\"M17.41 7.96l-1.37-1.37c-.4-.4-.92-.59-1.43-.59-.52 0-1.04.2-1.43.59L10.3 9.45l-7.72 7.72c-.78.78-.78 2.05 0 2.83L4 21.41c.39.39.9.59 1.41.59.51 0 1.02-.2 1.41-.59l7.78-7.78 2.81-2.81c.8-.78.8-2.07 0-2.86zM5.41 20L4 18.59l7.72-7.72 1.47 1.35L5.41 20z\"/>\n",
              "  </svg>\n",
              "      </button>\n",
              "      \n",
              "  <style>\n",
              "    .colab-df-container {\n",
              "      display:flex;\n",
              "      flex-wrap:wrap;\n",
              "      gap: 12px;\n",
              "    }\n",
              "\n",
              "    .colab-df-convert {\n",
              "      background-color: #E8F0FE;\n",
              "      border: none;\n",
              "      border-radius: 50%;\n",
              "      cursor: pointer;\n",
              "      display: none;\n",
              "      fill: #1967D2;\n",
              "      height: 32px;\n",
              "      padding: 0 0 0 0;\n",
              "      width: 32px;\n",
              "    }\n",
              "\n",
              "    .colab-df-convert:hover {\n",
              "      background-color: #E2EBFA;\n",
              "      box-shadow: 0px 1px 2px rgba(60, 64, 67, 0.3), 0px 1px 3px 1px rgba(60, 64, 67, 0.15);\n",
              "      fill: #174EA6;\n",
              "    }\n",
              "\n",
              "    [theme=dark] .colab-df-convert {\n",
              "      background-color: #3B4455;\n",
              "      fill: #D2E3FC;\n",
              "    }\n",
              "\n",
              "    [theme=dark] .colab-df-convert:hover {\n",
              "      background-color: #434B5C;\n",
              "      box-shadow: 0px 1px 3px 1px rgba(0, 0, 0, 0.15);\n",
              "      filter: drop-shadow(0px 1px 2px rgba(0, 0, 0, 0.3));\n",
              "      fill: #FFFFFF;\n",
              "    }\n",
              "  </style>\n",
              "\n",
              "      <script>\n",
              "        const buttonEl =\n",
              "          document.querySelector('#df-d40797d0-bd94-46e8-b355-d0d56e6cb272 button.colab-df-convert');\n",
              "        buttonEl.style.display =\n",
              "          google.colab.kernel.accessAllowed ? 'block' : 'none';\n",
              "\n",
              "        async function convertToInteractive(key) {\n",
              "          const element = document.querySelector('#df-d40797d0-bd94-46e8-b355-d0d56e6cb272');\n",
              "          const dataTable =\n",
              "            await google.colab.kernel.invokeFunction('convertToInteractive',\n",
              "                                                     [key], {});\n",
              "          if (!dataTable) return;\n",
              "\n",
              "          const docLinkHtml = 'Like what you see? Visit the ' +\n",
              "            '<a target=\"_blank\" href=https://colab.research.google.com/notebooks/data_table.ipynb>data table notebook</a>'\n",
              "            + ' to learn more about interactive tables.';\n",
              "          element.innerHTML = '';\n",
              "          dataTable['output_type'] = 'display_data';\n",
              "          await google.colab.output.renderOutput(dataTable, element);\n",
              "          const docLink = document.createElement('div');\n",
              "          docLink.innerHTML = docLinkHtml;\n",
              "          element.appendChild(docLink);\n",
              "        }\n",
              "      </script>\n",
              "    </div>\n",
              "  </div>\n",
              "  "
            ]
          },
          "metadata": {},
          "execution_count": 20
        }
      ]
    },
    {
      "cell_type": "code",
      "source": [
        "df1['reviews'] = df1['reviews'].str.strip()\n",
        "df1['reviews']=df1['reviews'].str.lstrip('✅Trip Verified |')\n",
        "df1['reviews']=df1['reviews'].str.lstrip('Not Verified |')\n",
        "df1['reviews']= df1['reviews'].str.lower()\n",
        "print(df1)"
      ],
      "metadata": {
        "colab": {
          "base_uri": "https://localhost:8080/"
        },
        "id": "WQdkoyjtIbC4",
        "outputId": "89249c1d-5b99-44d6-d394-5c3167fe7e02"
      },
      "execution_count": null,
      "outputs": [
        {
          "output_type": "stream",
          "name": "stdout",
          "text": [
            "     Unnamed: 0                                            reviews\n",
            "0             0  i will never travel with british airways again...\n",
            "1             1  i am already in portugal so contacted them tod...\n",
            "2             2  ble. avoid this airline. it’s now becoming reg...\n",
            "3             3  despite being a gold member, the british airwa...\n",
            "4             4  regarding the aircraft and seat: the business ...\n",
            "..          ...                                                ...\n",
            "995         995  had four flights in total with this airline, f...\n",
            "996         996  johannesburg to heathrow. british airways are ...\n",
            "997         997  he queue for bag drop was massive and did not ...\n",
            "998         998  british airways changed plane and consequently...\n",
            "999         999  mumbai to edinburgh via london. i'm quite surp...\n",
            "\n",
            "[1000 rows x 2 columns]\n"
          ]
        }
      ]
    },
    {
      "cell_type": "markdown",
      "source": [
        "Sentiment analysis of reviews using nltk"
      ],
      "metadata": {
        "id": "6SeP73kyIiGD"
      }
    },
    {
      "cell_type": "code",
      "source": [
        "#remove punctuation\n",
        "df1['reviews'] = df1['reviews'].str.replace('[^\\w\\s]','')\n",
        "print(df1['reviews'])"
      ],
      "metadata": {
        "colab": {
          "base_uri": "https://localhost:8080/"
        },
        "id": "8tdMJs8PInmD",
        "outputId": "5efad1ce-7f1c-4a0f-9499-c1cc32ca95be"
      },
      "execution_count": null,
      "outputs": [
        {
          "output_type": "stream",
          "name": "stdout",
          "text": [
            "0      i will never travel with british airways again...\n",
            "1      i am already in portugal so contacted them tod...\n",
            "2      ble avoid this airline its now becoming regula...\n",
            "3      despite being a gold member the british airway...\n",
            "4      regarding the aircraft and seat the business c...\n",
            "                             ...                        \n",
            "995    had four flights in total with this airline fi...\n",
            "996    johannesburg to heathrow british airways are n...\n",
            "997    he queue for bag drop was massive and did not ...\n",
            "998    british airways changed plane and consequently...\n",
            "999    mumbai to edinburgh via london im quite surpri...\n",
            "Name: reviews, Length: 1000, dtype: object\n"
          ]
        },
        {
          "output_type": "stream",
          "name": "stderr",
          "text": [
            "<ipython-input-22-05b35ac04ac2>:2: FutureWarning: The default value of regex will change from True to False in a future version.\n",
            "  df1['reviews'] = df1['reviews'].str.replace('[^\\w\\s]','')\n"
          ]
        }
      ]
    },
    {
      "cell_type": "code",
      "source": [
        "# tokenize\n",
        "print(df1.iloc[1,1])\n"
      ],
      "metadata": {
        "id": "AGjuYJNPZ1uw",
        "colab": {
          "base_uri": "https://localhost:8080/"
        },
        "outputId": "b9b22ddd-16d3-4a9c-dd16-8565a98a96bc"
      },
      "execution_count": null,
      "outputs": [
        {
          "output_type": "stream",
          "name": "stdout",
          "text": [
            "    l r e   n   p r u g l     c n c e   h e     n   h e   c n c e l l e     r e u r n   f l g h   b e c u e     w   1 0   n u e   l e   c l l n g   h e   e v e n   h u g h     r e   f r   2   h u r     g e   h r u g h   h e     b e f r e   n w       u n b l e     g e   b c k   n   h e   h v e   k e p   h e   5 0 0   p u n   c u e r   e r v c e     h c k n g   h e   h v e   n   n e n n   f   h e l p n g   u\n"
          ]
        }
      ]
    },
    {
      "cell_type": "code",
      "source": [
        "df1['reviews'] = df1['reviews'].apply(lambda x: ' '.join([word for word in x if word not in (stop_words)]))\n",
        "print(df1.head(20))"
      ],
      "metadata": {
        "colab": {
          "base_uri": "https://localhost:8080/"
        },
        "id": "z2yLfRL5b99Q",
        "outputId": "c743ac7e-26e8-424b-ffc9-61c887df1e72"
      },
      "execution_count": null,
      "outputs": [
        {
          "output_type": "stream",
          "name": "stdout",
          "text": [
            "    Unnamed: 0                                            reviews\n",
            "0            0    w l l   n e v e r   r v e l   w h   b r h   ...\n",
            "1            1      l r e   n   p r u g l     c n c e   h e   ...\n",
            "2            2  b l e   v   h   r l n e     n w   b e c n g   ...\n",
            "3            3  e p e   b e n g     g l   e b e r   h e   b r ...\n",
            "4            4  r e g r n g   h e   r c r f   n   e   h e   b ...\n",
            "5            5    r v e l l e   w h   b r h   r w   f r   w e ...\n",
            "6            6  f   w   l u   w h   e v e r     p l n n n g   ...\n",
            "7            7  h   h e   w r   e x p e r e n c e   h e   f l ...\n",
            "8            8  h e   g r u n   f f   w e r e   n   h e l p f ...\n",
            "9            9  e c n   e   b   p r e u   e c n   n     n e w ...\n",
            "10          10  h e   c h n g e   u r   f l g h   f r   b r u ...\n",
            "11          11    c p e n h g e n   h e     c h c   c k e   c ...\n",
            "12          12  w r   e x p e r e n c e   f     l f e   r n g ...\n",
            "13          13  u e     c e   h r n g   w h   c h   p c f c   ...\n",
            "14          14  l h r   c h e c k   n   w   q u c k     h e   ...\n",
            "15          15    w u l n   r e c e n   b r h   r w     l l   ...\n",
            "16          16  b l u e l   h r r b l e   e x p e r e n c e   ...\n",
            "17          17  h     h e   w r   r l n e   n   n e   h n g   ...\n",
            "18          18    w l l   n e v e r   f l   b r h   r w   g n ...\n",
            "19          19  w r   r c r f     h v e   e v e r   f l w n   ...\n"
          ]
        }
      ]
    },
    {
      "cell_type": "code",
      "source": [
        "def polarity_calc(text):\n",
        "    try:\n",
        "        return TextBlob(text).sentiment.polarity\n",
        "    except:\n",
        "        return None\n",
        "\n",
        "\n",
        "\n",
        "def tag_cal(num):\n",
        "    if num<0:\n",
        "        return 'Negative'\n",
        "    elif num>0:\n",
        "        return 'Positive'\n",
        "    else:\n",
        "        return 'Neutral'\n",
        "\n",
        "\n",
        "df1['polarity'] = df1['reviews'].apply(polarity_calc)\n",
        "\n",
        "\n",
        "df1['tag'] = df1['polarity'].apply(tag_cal)\n",
        "\n",
        "\n",
        "print(df1)"
      ],
      "metadata": {
        "colab": {
          "base_uri": "https://localhost:8080/"
        },
        "id": "eqzPlu2EcDKF",
        "outputId": "9a4d3394-f42e-4bf5-ad12-5da1bdb383cc"
      },
      "execution_count": null,
      "outputs": [
        {
          "output_type": "stream",
          "name": "stdout",
          "text": [
            "      Unnamed: 0                                            reviews  polarity  \\\n",
            "0              0    w l l   n e v e r   r v e l   w h   b r h   ...       0.0   \n",
            "1              1      l r e   n   p r u g l     c n c e   h e   ...       0.0   \n",
            "2              2  b l e   v   h   r l n e     n w   b e c n g   ...       0.0   \n",
            "3              3  e p e   b e n g     g l   e b e r   h e   b r ...       0.0   \n",
            "4              4  r e g r n g   h e   r c r f   n   e   h e   b ...       0.0   \n",
            "...          ...                                                ...       ...   \n",
            "1995        1995  r e v e w       f l e w   l n n   h e h r w   ...       0.0   \n",
            "1996        1996  r e v e w         f l   h   r u e   3 4   e   ...       0.0   \n",
            "1997        1997  f l e w   z u r c h     l n n   h e h r w   v ...       0.0   \n",
            "1998        1998  r e v e w       f l e w   b r h   r w   f r   ...       0.0   \n",
            "1999        1999  r e v e w     f l e w   l n n   g w c k     p ...       0.0   \n",
            "\n",
            "          tag  \n",
            "0     Neutral  \n",
            "1     Neutral  \n",
            "2     Neutral  \n",
            "3     Neutral  \n",
            "4     Neutral  \n",
            "...       ...  \n",
            "1995  Neutral  \n",
            "1996  Neutral  \n",
            "1997  Neutral  \n",
            "1998  Neutral  \n",
            "1999  Neutral  \n",
            "\n",
            "[2000 rows x 4 columns]\n"
          ]
        }
      ]
    },
    {
      "cell_type": "markdown",
      "source": [
        "Analyze"
      ],
      "metadata": {
        "id": "fhwGH12ecNPe"
      }
    },
    {
      "cell_type": "code",
      "source": [
        "(df1.groupby('tag').size()/df1['tag'].count())*100"
      ],
      "metadata": {
        "colab": {
          "base_uri": "https://localhost:8080/"
        },
        "id": "ZZ_NtffKcIV8",
        "outputId": "7b3c21ae-a957-448a-8b09-53bb2aee1dce"
      },
      "execution_count": null,
      "outputs": [
        {
          "output_type": "execute_result",
          "data": {
            "text/plain": [
              "tag\n",
              "Neutral    100.0\n",
              "dtype: float64"
            ]
          },
          "metadata": {},
          "execution_count": 73
        }
      ]
    },
    {
      "cell_type": "code",
      "source": [
        "# positive\n",
        "text = \" \"\n",
        "for ind in df1.index:\n",
        "    if df1['tag'][ind] == \"Positive\":\n",
        "        text = text + df1['reviews'][ind]\n",
        "\n",
        "wordcloud_positive = WordCloud().generate(text)\n",
        "\n",
        "\n",
        "# Display the generated image:\n",
        "plt.imshow(wordcloud_positive, interpolation='bilinear')\n",
        "plt.axis(\"off\")\n",
        "plt.show()"
      ],
      "metadata": {
        "colab": {
          "base_uri": "https://localhost:8080/",
          "height": 392
        },
        "id": "a1ED1E-ecVMb",
        "outputId": "73df3fed-52dc-4f1a-d7af-24d2b5b87e2a"
      },
      "execution_count": null,
      "outputs": [
        {
          "output_type": "error",
          "ename": "ValueError",
          "evalue": "ignored",
          "traceback": [
            "\u001b[0;31m---------------------------------------------------------------------------\u001b[0m",
            "\u001b[0;31mValueError\u001b[0m                                Traceback (most recent call last)",
            "\u001b[0;32m<ipython-input-74-8d195dcd073f>\u001b[0m in \u001b[0;36m<cell line: 7>\u001b[0;34m()\u001b[0m\n\u001b[1;32m      5\u001b[0m         \u001b[0mtext\u001b[0m \u001b[0;34m=\u001b[0m \u001b[0mtext\u001b[0m \u001b[0;34m+\u001b[0m \u001b[0mdf1\u001b[0m\u001b[0;34m[\u001b[0m\u001b[0;34m'reviews'\u001b[0m\u001b[0;34m]\u001b[0m\u001b[0;34m[\u001b[0m\u001b[0mind\u001b[0m\u001b[0;34m]\u001b[0m\u001b[0;34m\u001b[0m\u001b[0;34m\u001b[0m\u001b[0m\n\u001b[1;32m      6\u001b[0m \u001b[0;34m\u001b[0m\u001b[0m\n\u001b[0;32m----> 7\u001b[0;31m \u001b[0mwordcloud_positive\u001b[0m \u001b[0;34m=\u001b[0m \u001b[0mWordCloud\u001b[0m\u001b[0;34m(\u001b[0m\u001b[0;34m)\u001b[0m\u001b[0;34m.\u001b[0m\u001b[0mgenerate\u001b[0m\u001b[0;34m(\u001b[0m\u001b[0mtext\u001b[0m\u001b[0;34m)\u001b[0m\u001b[0;34m\u001b[0m\u001b[0;34m\u001b[0m\u001b[0m\n\u001b[0m\u001b[1;32m      8\u001b[0m \u001b[0;34m\u001b[0m\u001b[0m\n\u001b[1;32m      9\u001b[0m \u001b[0;34m\u001b[0m\u001b[0m\n",
            "\u001b[0;32m/usr/local/lib/python3.10/dist-packages/wordcloud/wordcloud.py\u001b[0m in \u001b[0;36mgenerate\u001b[0;34m(self, text)\u001b[0m\n\u001b[1;32m    637\u001b[0m         \u001b[0mself\u001b[0m\u001b[0;34m\u001b[0m\u001b[0;34m\u001b[0m\u001b[0m\n\u001b[1;32m    638\u001b[0m         \"\"\"\n\u001b[0;32m--> 639\u001b[0;31m         \u001b[0;32mreturn\u001b[0m \u001b[0mself\u001b[0m\u001b[0;34m.\u001b[0m\u001b[0mgenerate_from_text\u001b[0m\u001b[0;34m(\u001b[0m\u001b[0mtext\u001b[0m\u001b[0;34m)\u001b[0m\u001b[0;34m\u001b[0m\u001b[0;34m\u001b[0m\u001b[0m\n\u001b[0m\u001b[1;32m    640\u001b[0m \u001b[0;34m\u001b[0m\u001b[0m\n\u001b[1;32m    641\u001b[0m     \u001b[0;32mdef\u001b[0m \u001b[0m_check_generated\u001b[0m\u001b[0;34m(\u001b[0m\u001b[0mself\u001b[0m\u001b[0;34m)\u001b[0m\u001b[0;34m:\u001b[0m\u001b[0;34m\u001b[0m\u001b[0;34m\u001b[0m\u001b[0m\n",
            "\u001b[0;32m/usr/local/lib/python3.10/dist-packages/wordcloud/wordcloud.py\u001b[0m in \u001b[0;36mgenerate_from_text\u001b[0;34m(self, text)\u001b[0m\n\u001b[1;32m    619\u001b[0m         \"\"\"\n\u001b[1;32m    620\u001b[0m         \u001b[0mwords\u001b[0m \u001b[0;34m=\u001b[0m \u001b[0mself\u001b[0m\u001b[0;34m.\u001b[0m\u001b[0mprocess_text\u001b[0m\u001b[0;34m(\u001b[0m\u001b[0mtext\u001b[0m\u001b[0;34m)\u001b[0m\u001b[0;34m\u001b[0m\u001b[0;34m\u001b[0m\u001b[0m\n\u001b[0;32m--> 621\u001b[0;31m         \u001b[0mself\u001b[0m\u001b[0;34m.\u001b[0m\u001b[0mgenerate_from_frequencies\u001b[0m\u001b[0;34m(\u001b[0m\u001b[0mwords\u001b[0m\u001b[0;34m)\u001b[0m\u001b[0;34m\u001b[0m\u001b[0;34m\u001b[0m\u001b[0m\n\u001b[0m\u001b[1;32m    622\u001b[0m         \u001b[0;32mreturn\u001b[0m \u001b[0mself\u001b[0m\u001b[0;34m\u001b[0m\u001b[0;34m\u001b[0m\u001b[0m\n\u001b[1;32m    623\u001b[0m \u001b[0;34m\u001b[0m\u001b[0m\n",
            "\u001b[0;32m/usr/local/lib/python3.10/dist-packages/wordcloud/wordcloud.py\u001b[0m in \u001b[0;36mgenerate_from_frequencies\u001b[0;34m(self, frequencies, max_font_size)\u001b[0m\n\u001b[1;32m    408\u001b[0m         \u001b[0mfrequencies\u001b[0m \u001b[0;34m=\u001b[0m \u001b[0msorted\u001b[0m\u001b[0;34m(\u001b[0m\u001b[0mfrequencies\u001b[0m\u001b[0;34m.\u001b[0m\u001b[0mitems\u001b[0m\u001b[0;34m(\u001b[0m\u001b[0;34m)\u001b[0m\u001b[0;34m,\u001b[0m \u001b[0mkey\u001b[0m\u001b[0;34m=\u001b[0m\u001b[0mitemgetter\u001b[0m\u001b[0;34m(\u001b[0m\u001b[0;36m1\u001b[0m\u001b[0;34m)\u001b[0m\u001b[0;34m,\u001b[0m \u001b[0mreverse\u001b[0m\u001b[0;34m=\u001b[0m\u001b[0;32mTrue\u001b[0m\u001b[0;34m)\u001b[0m\u001b[0;34m\u001b[0m\u001b[0;34m\u001b[0m\u001b[0m\n\u001b[1;32m    409\u001b[0m         \u001b[0;32mif\u001b[0m \u001b[0mlen\u001b[0m\u001b[0;34m(\u001b[0m\u001b[0mfrequencies\u001b[0m\u001b[0;34m)\u001b[0m \u001b[0;34m<=\u001b[0m \u001b[0;36m0\u001b[0m\u001b[0;34m:\u001b[0m\u001b[0;34m\u001b[0m\u001b[0;34m\u001b[0m\u001b[0m\n\u001b[0;32m--> 410\u001b[0;31m             raise ValueError(\"We need at least 1 word to plot a word cloud, \"\n\u001b[0m\u001b[1;32m    411\u001b[0m                              \"got %d.\" % len(frequencies))\n\u001b[1;32m    412\u001b[0m         \u001b[0mfrequencies\u001b[0m \u001b[0;34m=\u001b[0m \u001b[0mfrequencies\u001b[0m\u001b[0;34m[\u001b[0m\u001b[0;34m:\u001b[0m\u001b[0mself\u001b[0m\u001b[0;34m.\u001b[0m\u001b[0mmax_words\u001b[0m\u001b[0;34m]\u001b[0m\u001b[0;34m\u001b[0m\u001b[0;34m\u001b[0m\u001b[0m\n",
            "\u001b[0;31mValueError\u001b[0m: We need at least 1 word to plot a word cloud, got 0."
          ]
        }
      ]
    },
    {
      "cell_type": "code",
      "source": [
        "#negative\n",
        "text2= \" \"\n",
        "for ind in df1.index:\n",
        "    if df1['tag'][ind] == \"Negative\":\n",
        "        text2 = text2 + df1['reviews'][ind]\n",
        "wordcloud_negative = WordCloud().generate(text2)\n",
        "plt.imshow(wordcloud_negative, interpolation='bilinear')\n",
        "plt.axis(\"off\")\n",
        "plt.show()"
      ],
      "metadata": {
        "id": "nn7bfpf2ca7r"
      },
      "execution_count": null,
      "outputs": []
    },
    {
      "cell_type": "code",
      "source": [
        "df1['tag'].value_counts().plot(kind='bar')\n",
        "sns.set(font_scale=1.4)\n",
        "df1['tag'].value_counts().plot(kind='bar', figsize=(7, 6), rot=0)\n",
        "plt.xlabel(\"Sentiment\", labelpad=14)\n",
        "plt.ylabel(\"No of reviews\", labelpad=14)\n",
        "plt.title(\"Sentient counts\", y=1.02);"
      ],
      "metadata": {
        "id": "VLXEV2Vwcm3t"
      },
      "execution_count": null,
      "outputs": []
    },
    {
      "cell_type": "markdown",
      "source": [],
      "metadata": {
        "id": "5C1FU-GTp5QL"
      }
    },
    {
      "cell_type": "markdown",
      "source": [],
      "metadata": {
        "id": "6WHE5B6rp4pu"
      }
    },
    {
      "cell_type": "code",
      "source": [
        "reviews_list = df1['reviews'].tolist()\n",
        "print(reviews_list)\n"
      ],
      "metadata": {
        "id": "Q6RSmKMEp4_T"
      },
      "execution_count": null,
      "outputs": []
    },
    {
      "cell_type": "code",
      "source": [
        "from nltk import ngrams\n",
        "from nltk.probability import FreqDist\n",
        "\n",
        "from sklearn.feature_extraction import text\n",
        "from sklearn.feature_extraction.text import TfidfVectorizer\n",
        "\n",
        "#split the text of all reviews into a list of words\n",
        "words = reviews.split(\" \")\n",
        "\n",
        "#remove certain words that will not be used to determine the positive or negative sentiment\n",
        "stopwords = text.ENGLISH_STOP_WORDS.union(['flight', 'ba', \"passenger\",\"u\", \"london\",\"airway\",\"british\",\"airline\",\\\n",
        "                                           \"heathrow\",\"plane\",\"lhr\",\"review\"])\n",
        "\n",
        "\n",
        "new_words = [word for word in words if word not in stopwords]\n",
        "\n",
        "nlp_words=FreqDist(new_words).most_common(20)\n",
        "\n",
        "#create a dataframe of these word and its frequencies\n",
        "all_fdist = pd.Series(dict(nlp_words)) from nltk import ngrams\n",
        "from nltk.probability import FreqDist\n",
        "\n",
        "from sklearn.feature_extraction import text\n",
        "from sklearn.feature_extraction.text import TfidfVectorizer\n",
        "\n",
        "#split the text of all reviews into a list of words\n",
        "words = reviews.split(\" \")\n",
        "\n",
        "#remove certain words that will not be used to determine the positive or negative sentiment\n",
        "stopwords = text.ENGLISH_STOP_WORDS.union(['flight', 'ba', \"passenger\",\"u\", \"london\",\"airway\",\"british\",\"airline\",\\\n",
        "                                           \"heathrow\",\"plane\",\"lhr\",\"review\",\"ba12\",\"b747436\",\"1998\"])\n",
        "\n",
        "\n",
        "new_words = [word for word in words if word not in stopwords]\n",
        "\n",
        "nlp_words=FreqDist(new_words).most_common(20)\n",
        "\n",
        "#create a dataframe of these word and its frequencies\n",
        "all_fdist = pd.Series(dict(nlp_words))\n"
      ],
      "metadata": {
        "id": "TtQYrmDDnxN4"
      },
      "execution_count": null,
      "outputs": []
    },
    {
      "cell_type": "code",
      "source": [
        "## Setting figure, ax into variables\n",
        "fig, ax = plt.subplots(figsize=(15,8))\n",
        "\n",
        "## Seaborn plotting using Pandas attributes + xtick rotation for ease of viewing\n",
        "all_plot = sns.barplot(x=all_fdist.index, y=all_fdist.values, ax=ax)\n",
        "all_plot.bar_label(all_plot.containers[0])\n",
        "plt.xticks(rotation=30)"
      ],
      "metadata": {
        "id": "zFRlsenJthfm"
      },
      "execution_count": null,
      "outputs": []
    },
    {
      "cell_type": "code",
      "source": [
        "## Imports\n",
        "import nltk.collocations as collocations\n",
        "from nltk import FreqDist, bigrams\n",
        "reviews_list = df1['reviews'].tolist()\n",
        "\n",
        "all_words1 = []\n",
        "\n",
        "for review in reviews_list:\n",
        "    words = review.split()\n",
        "    all_words1.extend(words)\n",
        "\n",
        "print(all_words1)\n",
        "\n",
        "stopwords = text.ENGLISH_STOP_WORDS.union(['flight', 'ba', \"passenger\",\"u\", \"london\",\"airway\",\"british\",\"airline\",\"felt\",\"like\"])\n",
        "\n",
        "all_words11 = [all_words1 for all_words1 in words if all_words1 not in stopwords]\n"
      ],
      "metadata": {
        "id": "XkRpXw1iuR4u"
      },
      "execution_count": null,
      "outputs": []
    },
    {
      "cell_type": "code",
      "source": [
        "def get_freq_dist(all_words11,number_of_ngrams ):\n",
        "    from nltk import ngrams\n",
        "\n",
        "    ## Generate bigrams\n",
        "    ngrams = ngrams(all_words11, number_of_ngrams)\n",
        "\n",
        "    ## Creating FreqDist\n",
        "    ngram_fd = FreqDist(ngrams).most_common(25)\n",
        "\n",
        "    ## Sort values by highest frequency\n",
        "    ngram_sorted = {k:v for k,v in sorted(ngram_fd, key=lambda item:item[1])}\n",
        "\n",
        "    ## Join bigram tokens with '_' + maintain sorting\n",
        "    ngram_joined = {'_'.join(k):v for k,v in sorted(ngram_fd, key=lambda item:item[1])}\n",
        "\n",
        "    ## Convert to Pandas series for easy plotting\n",
        "    ngram_freqdist = pd.Series(ngram_joined)\n",
        "    plt.figure(figsize=(10,10))\n",
        "    ax = ngram_freqdist.plot(kind=\"barh\")\n",
        "\n",
        "    return ax\n",
        "\n",
        "\n",
        "get_freq_dist(all_words11,3)"
      ],
      "metadata": {
        "id": "H-56R-Vqxu0d"
      },
      "execution_count": null,
      "outputs": []
    }
  ]
}